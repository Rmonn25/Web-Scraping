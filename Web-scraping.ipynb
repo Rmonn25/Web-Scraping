{
 "cells": [
  {
   "cell_type": "code",
   "execution_count": null,
   "metadata": {},
   "outputs": [],
   "source": [
    "# Bibliotecas\n",
    "from selenium import webdriver\n",
    "from selenium.webdriver.common.by import By\n",
    "from selenium.webdriver.support.ui import WebDriverWait\n",
    "from selenium.webdriver.support import expected_conditions as EC\n",
    "import pandas as pd\n",
    "import time"
   ]
  },
  {
   "cell_type": "code",
   "execution_count": null,
   "metadata": {},
   "outputs": [],
   "source": [
    "# Cria um objeto Service (do Selenium), que é necessário para inicializar o driver do navegador\n",
    "service = Service()\n",
    "\n",
    "# Cria configurações para o navegador\n",
    "options = webdriver.ChromeOptions()\n",
    "\n",
    "# Inicializa o Chrome com o service e as opções definidas\n",
    "driver=webdriver.Chrome(service=service, options=options)\n",
    "\n",
    "# Define a URL que será acessada pelo navegador\n",
    "url='https://www.bcorporation.net/en-us/find-a-b-corp/'\n",
    "\n",
    "# Acessa a URL com o navegador automatizado\n",
    "driver.get(url)"
   ]
  },
  {
   "cell_type": "code",
   "execution_count": null,
   "metadata": {},
   "outputs": [],
   "source": [
    "# Busca por elementos com diferentes seletores isso muda de página para página, neste caso eu precisava pegar três informações diferentes\n",
    "elementos = (\n",
    "    driver.find_elements(By.TAG_NAME, 'h1') + \n",
    "    driver.find_elements(By.CLASS_NAME, 'opacity-60') + \n",
    "    driver.find_elements(By.CLASS_NAME, 'mt-8')\n",
    ")\n",
    "\n",
    "# Filtra os elementos coletados, extraindo apenas os textos não vazios.\n",
    "# .text = pega o texto do elemento\n",
    "# .strip() = remove espaços em branco no começo e no fim\n",
    "# if el.text.strip() != '' = ignora elementos sem texto\n",
    "textos = [el.text.strip() for el in elementos if el.text.strip() != '']\n",
    "\n",
    "# Mostra a lista final com os textos extraídos\n",
    "textos"
   ]
  },
  {
   "cell_type": "code",
   "execution_count": null,
   "metadata": {},
   "outputs": [],
   "source": [
    "# Lista para armazenar informações coletadas\n",
    "lista_empresas = []\n",
    "\n",
    "# Loop para percorrer todas as páginas\n",
    "while True:\n",
    "    try:\n",
    "        # Captura os elementos com o nome da empresa (SEM guardar em variável fixa)\n",
    "        titleElements = driver.find_elements(By.CSS_SELECTOR, 'span[data-testid=\"company-name-desktop\"]')\n",
    "\n",
    "        # Percorre cada empresa encontrada na página\n",
    "        for i in range(len(titleElements)):\n",
    "            try:\n",
    "                # Reencontra os elementos novamente (evita erro de referência obsoleta)\n",
    "                titleElements = driver.find_elements(By.CSS_SELECTOR, 'span[data-testid=\"company-name-desktop\"]')\n",
    "\n",
    "                # Aguarda o elemento estar clicável e clica nele\n",
    "                WebDriverWait(driver, 10).until(EC.element_to_be_clickable(titleElements[i])).click()\n",
    "\n",
    "                time.sleep(1)  # Pausa para garantir que a nova página carregue\n",
    "\n",
    "                # Coleta informações da página da empresa\n",
    "                info_elements = (\n",
    "                    driver.find_elements(By.TAG_NAME, 'h1') +\n",
    "                    driver.find_elements(By.CLASS_NAME, 'opacity-60') +\n",
    "                    driver.find_elements(By.CLASS_NAME, 'mt-8')\n",
    "                )\n",
    "\n",
    "                # Filtra e guarda apenas os textos não vazios\n",
    "                lista_empresas.append([el.text.strip() for el in info_elements if el.text.strip()])\n",
    "\n",
    "                driver.back()  # Volta para a lista de empresas\n",
    "                time.sleep(1)  # Aguarda o recarregamento da página\n",
    "\n",
    "            except Exception as e:\n",
    "                print(f\"Erro ao processar a empresa {i}: {e}\")\n",
    "\n",
    "        # Tenta clicar no botão \"Next\" para ir à próxima página\n",
    "        try:\n",
    "            next_button = WebDriverWait(driver, 10).until(\n",
    "                EC.element_to_be_clickable((By.CSS_SELECTOR, 'button[aria-label=\"Next\"]'))\n",
    "            )\n",
    "            next_button.click()\n",
    "            time.sleep(1)  # Aguarda carregamento da nova página\n",
    "\n",
    "        except Exception:\n",
    "            print(\"Botão 'Next' não encontrado. Finalizando coleta.\")\n",
    "            break  # Sai do loop se não houver mais páginas\n",
    "\n",
    "    except Exception as e:\n",
    "        print(f\"Erro inesperado: {e}\")\n",
    "        break\n",
    "\n",
    "# Finaliza o navegador após concluir a coleta\n",
    "driver.quit()"
   ]
  },
  {
   "cell_type": "code",
   "execution_count": null,
   "metadata": {},
   "outputs": [],
   "source": [
    "# Mostra a lista final com os textos extraídos\n",
    "lista_empresas"
   ]
  },
  {
   "cell_type": "code",
   "execution_count": null,
   "metadata": {},
   "outputs": [],
   "source": [
    "# Transforma a lista (lista_empresas) em uma tabela (dataframe)\n",
    "df_empresas = pd.DataFrame(lista_empresas, columns=[\n",
    "    'Nome', 'Localização', 'Data do certificado', 'Industria', 'Setor', \n",
    "    'Operação', 'Site', 'Descrição'\n",
    "])\n",
    "\n",
    "# Exibe o dataframe (Primeiras 5 linhas)\n",
    "df_empresas.head()"
   ]
  },
  {
   "cell_type": "code",
   "execution_count": null,
   "metadata": {},
   "outputs": [],
   "source": [
    "# Transforma o dataframe em uma planilha em excel .xlsx\n",
    "df_empresas.to_excel('Empresas_B.xlsx', index=False)"
   ]
  }
 ],
 "metadata": {
  "kernelspec": {
   "display_name": "base",
   "language": "python",
   "name": "python3"
  },
  "language_info": {
   "codemirror_mode": {
    "name": "ipython",
    "version": 3
   },
   "file_extension": ".py",
   "mimetype": "text/x-python",
   "name": "python",
   "nbconvert_exporter": "python",
   "pygments_lexer": "ipython3",
   "version": "3.12.4"
  }
 },
 "nbformat": 4,
 "nbformat_minor": 2
}
